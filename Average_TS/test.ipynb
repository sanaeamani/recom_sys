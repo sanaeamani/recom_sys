{
 "cells": [
  {
   "cell_type": "code",
   "execution_count": 8,
   "id": "365411ba",
   "metadata": {},
   "outputs": [],
   "source": [
    "import numpy as np\n",
    "import csv\n",
    "\n",
    "\n",
    "from modules.cas_TS import RecSys\n",
    "\n",
    "\n",
    "import pandas as pd\n",
    "import matplotlib.pyplot as plt\n",
    "import pickle"
   ]
  },
  {
   "cell_type": "code",
   "execution_count": 9,
   "id": "3bb4dc74",
   "metadata": {},
   "outputs": [],
   "source": [
    "items_loc = 'csv_files/items.csv'\n",
    "data_loc = 'users_data/users_data.csv'\n",
    "parameters_loc = 'parameters/parameters.pickle'"
   ]
  },
  {
   "cell_type": "code",
   "execution_count": 10,
   "id": "6d646701",
   "metadata": {},
   "outputs": [],
   "source": [
    "K = 6 #number of recommendations per user\n",
    "n = 25 #total number of days/rounds the simulations run for\n",
    "alpha = 0 #diversity factor\n",
    "number_of_users = 100 #number of users per day\n",
    "from_scratch = 0 #indicator specifying wether the training should start from scratch or continue from the latest trained parameteres\n",
    "\n",
    "\n",
    "\n"
   ]
  },
  {
   "cell_type": "code",
   "execution_count": 11,
   "id": "949f06c9",
   "metadata": {},
   "outputs": [],
   "source": [
    "items = pd.read_csv(items_loc)\n",
    "titles = list(items['IDENTIFIER'])\n",
    "ctr = {t:0.01*np.random.randint(1,K) for t in titles}\n",
    "click_probabilities = np.array(list(ctr.values()))\n",
    "L = items.shape[0] #number of items\n",
    "\n"
   ]
  },
  {
   "cell_type": "code",
   "execution_count": 12,
   "id": "67c65348",
   "metadata": {},
   "outputs": [],
   "source": [
    "regrett = []\n",
    "repeatt = []\n",
    "Rec = RecSys(items,K, L, alpha)"
   ]
  },
  {
   "cell_type": "code",
   "execution_count": 13,
   "id": "6c984c7f",
   "metadata": {},
   "outputs": [],
   "source": [
    "for day in range(1, n+1):\n",
    "    if day>1:\n",
    "        data = pd.read_csv(data_loc)\n",
    "    else:\n",
    "        data = {}\n",
    "  \n",
    "    Rec.train(parameters_loc, data, from_scratch)\n",
    "    repeatt.append(Rec.repeat)\n",
    "        \n",
    "    header = ['selected']+[r'choice{}'.format(i+1) for i in range(K)]  \n",
    "    with open(data_loc, 'w') as file:\n",
    "        writer = csv.writer(file)\n",
    "        writer.writerow(header)\n",
    "\n",
    "    \n",
    "\n",
    "    \n",
    "    regs = 0    \n",
    "    \n",
    "    for user in range(number_of_users):\n",
    "        recommendations = Rec.predict(parameters_loc)\n",
    "        Rec.make_recommendation_and_save_new_data(click_probabilities, recommendations, data_loc)\n",
    "        regs = regs+Rec.regret\n",
    "        \n",
    "    regrett.append(regs)\n",
    "        \n"
   ]
  },
  {
   "cell_type": "code",
   "execution_count": 17,
   "id": "0346d43e",
   "metadata": {},
   "outputs": [],
   "source": [
    "#ploting regret curve\n",
    "q = 0\n",
    "p = n\n",
    "regret = np.array([regrett[day] for day in range(n)])\n",
    "ff = np.array([sum(regret[0:t])/number_of_users for t in range(1,n+1)])\n",
    "plt.plot(ff[q:p]/np.arange(q+1,p+1))\n",
    "plt.xlabel(r'Round, $t$')\n",
    "plt.ylabel(r'Per-step regret, $\\frac{R_t}{t}$')"
   ]
  },
  {
   "cell_type": "code",
   "execution_count": 16,
   "id": "52d49256",
   "metadata": {},
   "outputs": [],
   "source": [
    "#plotting the repeatition curve\n",
    "plt.plot(np.array(repeatt))\n",
    "plt.ylim(-0.1,K+0.1)\n",
    "plt.xlabel(r'Round, $t$')\n",
    "plt.ylabel(r'Repetition$')"
   ]
  },
  {
   "cell_type": "code",
   "execution_count": null,
   "id": "5f8952d6",
   "metadata": {},
   "outputs": [],
   "source": []
  },
  {
   "cell_type": "code",
   "execution_count": null,
   "id": "9bbf7ce7",
   "metadata": {},
   "outputs": [],
   "source": []
  }
 ],
 "metadata": {
  "kernelspec": {
   "display_name": "Python 3 (ipykernel)",
   "language": "python",
   "name": "python3"
  },
  "language_info": {
   "codemirror_mode": {
    "name": "ipython",
    "version": 3
   },
   "file_extension": ".py",
   "mimetype": "text/x-python",
   "name": "python",
   "nbconvert_exporter": "python",
   "pygments_lexer": "ipython3",
   "version": "3.9.6"
  }
 },
 "nbformat": 4,
 "nbformat_minor": 5
}
