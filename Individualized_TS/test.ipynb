{
 "cells": [
  {
   "cell_type": "code",
   "execution_count": 1,
   "id": "365411ba",
   "metadata": {},
   "outputs": [],
   "source": [
    "import numpy as np\n",
    "import csv\n",
    "\n",
    "from modules.cas_TS import RecSys\n",
    "\n",
    "\n",
    "import pandas as pd\n",
    "import matplotlib.pyplot as plt\n",
    "import pickle"
   ]
  },
  {
   "cell_type": "code",
   "execution_count": 2,
   "id": "3bb4dc74",
   "metadata": {},
   "outputs": [],
   "source": [
    "items_loc = 'csv_files/items.csv'\n",
    "data_loc = 'users_data/users_data.csv'\n",
    "parameters_loc = 'parameters/parameters.pickle'"
   ]
  },
  {
   "cell_type": "code",
   "execution_count": 3,
   "id": "6191dc8d",
   "metadata": {},
   "outputs": [],
   "source": [
    "K = 6 #number of recommendations per user\n",
    "n = 25 #total number of days/rounds the simulations run for\n",
    "alpha = 0 #diversity factor\n",
    "number_of_users = 100 #number of users per day\n",
    "from_scratch = 0 #indicator specifying wether the training should start from scratch or continue from the latest trained parameteres\n",
    "\n"
   ]
  },
  {
   "cell_type": "code",
   "execution_count": 4,
   "id": "9e88e848",
   "metadata": {},
   "outputs": [],
   "source": [
    "items = pd.read_csv(items_loc)\n",
    "titles = list(items['IDENTIFIER'])\n",
    "ctr = {t:0.01*np.random.randint(1,K) for t in titles}\n",
    "click_probabilities = np.array(list(ctr.values()))\n",
    "L = items.shape[0] #number of mindfulness items"
   ]
  },
  {
   "cell_type": "code",
   "execution_count": 5,
   "id": "7bb983c8",
   "metadata": {},
   "outputs": [],
   "source": [
    "regrett = []\n",
    "repeatt = np.zeros([10000, n])\n",
    "days = 10000*[[]]\n",
    "\n",
    "\n",
    "Rec = RecSys(items, K, L, alpha)"
   ]
  },
  {
   "cell_type": "code",
   "execution_count": 6,
   "id": "bf0ecba5",
   "metadata": {},
   "outputs": [],
   "source": [
    "for day in range(1, n+1):\n",
    "    \n",
    "    if day>1:\n",
    "        data = pd.read_csv(data_loc)\n",
    "    else:\n",
    "        data = {}\n",
    "\n",
    "    Rec.train(parameters_loc, data, from_scratch)\n",
    "    for user in range(10000):\n",
    "        repeatt[user][day-1] = Rec.repeat[user]\n",
    "        \n",
    "    header = ['selected']+[r'choice{}'.format(i+1) for i in range(K)] +['user_id']  \n",
    "    with open(data_loc, 'w') as file:\n",
    "        writer = csv.writer(file)\n",
    "        writer.writerow(header)\n",
    "\n",
    "\n",
    "    regs = 0    \n",
    "    user_ids = np.arange((day-1)*(number_of_users/50), number_of_users+(day-1)*(number_of_users/50), dtype=int)\n",
    "    for user_id in user_ids:\n",
    "        df1 = pd.read_csv(data_loc)\n",
    "        recommendations = Rec.predict(parameters_loc, user_id)\n",
    "        Rec.make_recommendation_and_save_new_data(click_probabilities, recommendations, data_loc, user_id)\n",
    "        df2 = pd.read_csv(data_loc)\n",
    "        regs = regs+Rec.regret\n",
    "        if len(df1)<len(df2) and day<n:\n",
    "            days[user_id] = days[user_id]+[day]\n",
    "        \n",
    "        \n",
    "    regrett.append(regs)\n",
    "        \n"
   ]
  },
  {
   "cell_type": "code",
   "execution_count": 8,
   "id": "0346d43e",
   "metadata": {},
   "outputs": [],
   "source": [
    "#ploting regret curve\n",
    "q = 0\n",
    "p = n\n",
    "regret = np.array([regrett[day] for day in range(n)])\n",
    "ff = np.array([sum(regret[0:t])/number_of_users for t in range(1,n+1)])\n",
    "plt.plot(ff[q:p]/np.arange(q+1,p+1))\n",
    "plt.xlabel(r'Round, $t$')\n",
    "plt.ylabel(r'Per-step regret, $\\frac{R_t}{t}$')"
   ]
  },
  {
   "cell_type": "code",
   "execution_count": 18,
   "id": "52d49256",
   "metadata": {},
   "outputs": [],
   "source": [
    "#plotting the repeatition curve for the user with maximum number of repeatition\n",
    "q = []\n",
    "for i in range(10000):\n",
    "    if len(days[i])>0:\n",
    "        q.append(i)\n",
    "\n",
    "f = np.zeros([10000])\n",
    "for user_id in range(10000):\n",
    "    f[user_id] = max(repeatt[user_id])\n",
    "    \n",
    "user_id = q[f[q].argsort()[-100:][::-1][0]]\n",
    "\n",
    "\n",
    "plt.plot(repeatt[user_id][days[user_id]])\n",
    "plt.ylim(-0.1,K+0.1)\n",
    "plt.xlabel(r'Round, $t$')\n",
    "plt.ylabel(r'Repetition')"
   ]
  },
  {
   "cell_type": "code",
   "execution_count": null,
   "id": "1062e645",
   "metadata": {},
   "outputs": [],
   "source": []
  },
  {
   "cell_type": "code",
   "execution_count": null,
   "id": "0c9d24fe",
   "metadata": {},
   "outputs": [],
   "source": []
  }
 ],
 "metadata": {
  "kernelspec": {
   "display_name": "Python 3 (ipykernel)",
   "language": "python",
   "name": "python3"
  },
  "language_info": {
   "codemirror_mode": {
    "name": "ipython",
    "version": 3
   },
   "file_extension": ".py",
   "mimetype": "text/x-python",
   "name": "python",
   "nbconvert_exporter": "python",
   "pygments_lexer": "ipython3",
   "version": "3.9.6"
  }
 },
 "nbformat": 4,
 "nbformat_minor": 5
}
